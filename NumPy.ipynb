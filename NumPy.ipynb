{
  "nbformat": 4,
  "nbformat_minor": 0,
  "metadata": {
    "colab": {
      "name": "NumPy.ipynb",
      "provenance": [],
      "authorship_tag": "ABX9TyP4ZfCsSfTX9y5kSY+9ISPG",
      "include_colab_link": true
    },
    "kernelspec": {
      "name": "python3",
      "display_name": "Python 3"
    }
  },
  "cells": [
    {
      "cell_type": "markdown",
      "metadata": {
        "id": "view-in-github",
        "colab_type": "text"
      },
      "source": [
        "<a href=\"https://colab.research.google.com/github/ahamayush/NumPy/blob/master/NumPy.ipynb\" target=\"_parent\"><img src=\"https://colab.research.google.com/assets/colab-badge.svg\" alt=\"Open In Colab\"/></a>"
      ]
    },
    {
      "cell_type": "markdown",
      "metadata": {
        "id": "fFQHtfQ9_krU",
        "colab_type": "text"
      },
      "source": [
        "What is **Numpy**?\n",
        "\n",
        "Numpy means '**Numerical Python**'. It is a core library used for scientific computing which contains powerful n dimensional array object.\n",
        "\n",
        "It is useful in Linear Algebra, random number capability etc.\n",
        "\n",
        "**NumPy Array**: Powerful N-dimensional array object in the form of rows and columns. \n",
        "\n",
        "\n"
      ]
    },
    {
      "cell_type": "markdown",
      "metadata": {
        "id": "Aby6422OCUVH",
        "colab_type": "text"
      },
      "source": [
        "**How to install NumPy?**\n",
        "\n",
        "Go to the terminal and type \"**pip install numpy**\".\n",
        "\n",
        "Once the installation is completed, then go to your IDE and simply import it by typing \"**import numpy as np**\".\n"
      ]
    },
    {
      "cell_type": "code",
      "metadata": {
        "id": "8oNFAvxD5o1P",
        "colab_type": "code",
        "colab": {
          "base_uri": "https://localhost:8080/",
          "height": 34
        },
        "outputId": "ed26d92e-95b5-4c47-b049-66ffdd00f4a1"
      },
      "source": [
        "pip install numpy"
      ],
      "execution_count": null,
      "outputs": [
        {
          "output_type": "stream",
          "text": [
            "Requirement already satisfied: numpy in /usr/local/lib/python3.6/dist-packages (1.18.5)\n"
          ],
          "name": "stdout"
        }
      ]
    },
    {
      "cell_type": "markdown",
      "metadata": {
        "id": "qDpepZUvDjEy",
        "colab_type": "text"
      },
      "source": [
        "**Single dimensional NumPy Array:** Array which has either row or column."
      ]
    },
    {
      "cell_type": "code",
      "metadata": {
        "id": "ezgptagSDTZA",
        "colab_type": "code",
        "colab": {
          "base_uri": "https://localhost:8080/",
          "height": 34
        },
        "outputId": "6b93dfd0-c371-4274-a2d1-211667b9d01f"
      },
      "source": [
        "import numpy as np\n",
        "a= np.array([93, 53, 84])\n",
        "print(a)"
      ],
      "execution_count": null,
      "outputs": [
        {
          "output_type": "stream",
          "text": [
            "[93 53 84]\n"
          ],
          "name": "stdout"
        }
      ]
    },
    {
      "cell_type": "markdown",
      "metadata": {
        "id": "j_eZ833BEuRg",
        "colab_type": "text"
      },
      "source": [
        "**Multi Dimensional NumPy Array:** Array which has both row as well as column.\n"
      ]
    },
    {
      "cell_type": "code",
      "metadata": {
        "id": "TFhCFxznEqLw",
        "colab_type": "code",
        "colab": {
          "base_uri": "https://localhost:8080/",
          "height": 68
        },
        "outputId": "9cbe57c6-74ec-45a1-9b50-311e74773b8d"
      },
      "source": [
        "import numpy as np\n",
        "i= np.array([(1,2,99), (21, 32, 43), (12, 432, 42)])\n",
        "print(i)\n"
      ],
      "execution_count": null,
      "outputs": [
        {
          "output_type": "stream",
          "text": [
            "[[  1   2  99]\n",
            " [ 21  32  43]\n",
            " [ 12 432  42]]\n"
          ],
          "name": "stdout"
        }
      ]
    },
    {
      "cell_type": "markdown",
      "metadata": {
        "id": "sn-hz4I1EqiT",
        "colab_type": "text"
      },
      "source": [
        "### **NumPy Array Vs Python Lists** \n",
        "\n",
        "Some advantages of NumPy array than Python list:\n",
        "1. Less memory\n",
        "2. Fast\n",
        "3. More Convenient"
      ]
    },
    {
      "cell_type": "code",
      "metadata": {
        "id": "1EUrKq8dJeQl",
        "colab_type": "code",
        "colab": {
          "base_uri": "https://localhost:8080/",
          "height": 51
        },
        "outputId": "18137717-02dc-4335-8f03-24e432c71f79"
      },
      "source": [
        "import numpy as np\n",
        "import time\n",
        "import sys\n",
        "S= range(1000)\n",
        "print(sys.getsizeof(5)*len(S))\n",
        " \n",
        "D= np.arange(1000)\n",
        "print(D.size*D.itemsize)"
      ],
      "execution_count": null,
      "outputs": [
        {
          "output_type": "stream",
          "text": [
            "28000\n",
            "8000\n"
          ],
          "name": "stdout"
        }
      ]
    },
    {
      "cell_type": "markdown",
      "metadata": {
        "id": "WLh9JDErJqJR",
        "colab_type": "text"
      },
      "source": [
        "The above output shows that memory allocated by list is 28000 whereas memory allocated by numpy array is 8000. Therfore, numpy array occupies less memory as compared to lists."
      ]
    },
    {
      "cell_type": "code",
      "metadata": {
        "id": "2igA-lQ7IKKb",
        "colab_type": "code",
        "colab": {
          "base_uri": "https://localhost:8080/",
          "height": 51
        },
        "outputId": "e4d5bef8-392c-4d38-eda8-44d2c756ce57"
      },
      "source": [
        "import numpy as np\n",
        "import time\n",
        "import sys\n",
        "\n",
        "size= 20000000\n",
        "#define two lists\n",
        "L1= range(size)\n",
        "L2= range(size)\n",
        "\n",
        "#define two array\n",
        "A1= np.arange(size)\n",
        "A2= np.arange(size)\n",
        "start= time.time()\n",
        "result=[(x,y) for x,y in zip(L1,L2)]\n",
        "print((time.time()-start)*1000)\n",
        " \n",
        "start=time.time()\n",
        "result= A1+A2\n",
        "print((time.time()-start)*1000)"
      ],
      "execution_count": null,
      "outputs": [
        {
          "output_type": "stream",
          "text": [
            "4631.006479263306\n",
            "866.1322593688965\n"
          ],
          "name": "stdout"
        }
      ]
    },
    {
      "cell_type": "markdown",
      "metadata": {
        "id": "3oBz4tjgLsN0",
        "colab_type": "text"
      },
      "source": [
        "The above output shows that list takes 4631 ms while numpy array takes 866 ms.\n",
        "That shows NumPy array is much faster than lists.\n",
        "\n",
        "If you will observe that for concatenation in lists **for loop** is applied but in case of numpy array, no **for loop** is required. That's why numpy is much easier and convenient than list."
      ]
    },
    {
      "cell_type": "markdown",
      "metadata": {
        "id": "5OjIjH9ROkWc",
        "colab_type": "text"
      },
      "source": [
        "# **Python NumPy operations:**"
      ]
    },
    {
      "cell_type": "markdown",
      "metadata": {
        "id": "JHkeO3x4OyLK",
        "colab_type": "text"
      },
      "source": [
        "1. **ndim**: It finds the dimension of array."
      ]
    },
    {
      "cell_type": "code",
      "metadata": {
        "id": "CFZV6RDL10-V",
        "colab_type": "code",
        "colab": {
          "base_uri": "https://localhost:8080/",
          "height": 153
        },
        "outputId": "7569e764-943b-4e40-8b56-18235669f6d0"
      },
      "source": [
        "import numpy as np\n",
        "a = np.array([[(1,2,3),(4,5,6),(7,8,9)],\n",
        "              [(1,2,3),(4,5,6),(7,8,9)]])\n",
        "print(a.ndim)\n",
        "print(a)"
      ],
      "execution_count": null,
      "outputs": [
        {
          "output_type": "stream",
          "text": [
            "3\n",
            "[[[1 2 3]\n",
            "  [4 5 6]\n",
            "  [7 8 9]]\n",
            "\n",
            " [[1 2 3]\n",
            "  [4 5 6]\n",
            "  [7 8 9]]]\n"
          ],
          "name": "stdout"
        }
      ]
    },
    {
      "cell_type": "markdown",
      "metadata": {
        "id": "3tExFDlwTPOm",
        "colab_type": "text"
      },
      "source": [
        "2. **itemsize**: Helps to find the size of element"
      ]
    },
    {
      "cell_type": "code",
      "metadata": {
        "id": "gi3eSEPd2MKi",
        "colab_type": "code",
        "colab": {
          "base_uri": "https://localhost:8080/",
          "height": 34
        },
        "outputId": "664da54e-751b-4d89-cf40-25fe62e04ea0"
      },
      "source": [
        "print(a.itemsize)"
      ],
      "execution_count": null,
      "outputs": [
        {
          "output_type": "stream",
          "text": [
            "8\n"
          ],
          "name": "stdout"
        }
      ]
    },
    {
      "cell_type": "markdown",
      "metadata": {
        "id": "mtKxhk6MULUB",
        "colab_type": "text"
      },
      "source": [
        "3. **dtype**: Find the data type of element that you stored in an array."
      ]
    },
    {
      "cell_type": "code",
      "metadata": {
        "id": "ivkCtfI43sY6",
        "colab_type": "code",
        "colab": {
          "base_uri": "https://localhost:8080/",
          "height": 34
        },
        "outputId": "577eb0c6-41f9-4ad7-f8d9-cec461ecc5c0"
      },
      "source": [
        "print(a.dtype)\n",
        " "
      ],
      "execution_count": null,
      "outputs": [
        {
          "output_type": "stream",
          "text": [
            "int64\n"
          ],
          "name": "stdout"
        }
      ]
    },
    {
      "cell_type": "markdown",
      "metadata": {
        "id": "mJ7HRUWuUayo",
        "colab_type": "text"
      },
      "source": [
        "4. **shape**: It helps to find the shape of array i.e. dimension of an array. \n",
        "\n",
        "5. **size**: It tells the size of array."
      ]
    },
    {
      "cell_type": "code",
      "metadata": {
        "id": "h1KdfzjX39W6",
        "colab_type": "code",
        "colab": {
          "base_uri": "https://localhost:8080/",
          "height": 51
        },
        "outputId": "797d4446-5c95-4997-fbf1-65d341d098a6"
      },
      "source": [
        "b=np.array([[1, 2,3 ,4,5,675,234,13]])\n",
        "print(b.shape)\n",
        "print(b.size)"
      ],
      "execution_count": null,
      "outputs": [
        {
          "output_type": "stream",
          "text": [
            "(1, 8)\n",
            "8\n"
          ],
          "name": "stdout"
        }
      ]
    },
    {
      "cell_type": "markdown",
      "metadata": {
        "id": "HBTHtXBaVMd4",
        "colab_type": "text"
      },
      "source": [
        "6. **reshape**: It helps in interchange of rows and column."
      ]
    },
    {
      "cell_type": "code",
      "metadata": {
        "id": "MCp178AB8zYt",
        "colab_type": "code",
        "colab": {
          "base_uri": "https://localhost:8080/",
          "height": 153
        },
        "outputId": "c9cd030c-6b99-4b0e-a4e6-24557190b2ea"
      },
      "source": [
        "print(b.reshape(8,1))"
      ],
      "execution_count": null,
      "outputs": [
        {
          "output_type": "stream",
          "text": [
            "[[  1]\n",
            " [  2]\n",
            " [  3]\n",
            " [  4]\n",
            " [  5]\n",
            " [675]\n",
            " [234]\n",
            " [ 13]]\n"
          ],
          "name": "stdout"
        }
      ]
    },
    {
      "cell_type": "markdown",
      "metadata": {
        "id": "5QzI0QILW6x8",
        "colab_type": "text"
      },
      "source": [
        "7. **slicing**: Extracting particular set of elements from a array"
      ]
    },
    {
      "cell_type": "code",
      "metadata": {
        "id": "W4eLoWJLXdvP",
        "colab_type": "code",
        "colab": {
          "base_uri": "https://localhost:8080/",
          "height": 34
        },
        "outputId": "2e4c40e1-5204-40ab-991a-1b95833799e8"
      },
      "source": [
        "import numpy as np\n",
        "\n",
        "i = np.array([(1, 6, 75), (21, 45, 53), (23, 42, 42)])\n",
        "print(i[0:2,-1])"
      ],
      "execution_count": null,
      "outputs": [
        {
          "output_type": "stream",
          "text": [
            "[75 53]\n"
          ],
          "name": "stdout"
        }
      ]
    },
    {
      "cell_type": "markdown",
      "metadata": {
        "id": "sknBDF4acHHM",
        "colab_type": "text"
      },
      "source": [
        "8. **max/min**: It helps to find the maximum and minimum in numpy array."
      ]
    },
    {
      "cell_type": "code",
      "metadata": {
        "id": "f0sVNVEl90b1",
        "colab_type": "code",
        "colab": {
          "base_uri": "https://localhost:8080/",
          "height": 34
        },
        "outputId": "f00c90ab-9dfd-497e-b3b2-23ad6695bd63"
      },
      "source": [
        "print(i.max())"
      ],
      "execution_count": null,
      "outputs": [
        {
          "output_type": "stream",
          "text": [
            "75\n"
          ],
          "name": "stdout"
        }
      ]
    },
    {
      "cell_type": "code",
      "metadata": {
        "id": "rvM0YX3F_EJx",
        "colab_type": "code",
        "colab": {
          "base_uri": "https://localhost:8080/",
          "height": 34
        },
        "outputId": "0422adcd-0b1a-4d08-9da5-8be7c2581327"
      },
      "source": [
        "print(i.min())"
      ],
      "execution_count": null,
      "outputs": [
        {
          "output_type": "stream",
          "text": [
            "1\n"
          ],
          "name": "stdout"
        }
      ]
    },
    {
      "cell_type": "markdown",
      "metadata": {
        "id": "YZB6sNZHdP15",
        "colab_type": "text"
      },
      "source": [
        "9. **sum**: It helps to find the sum of array."
      ]
    },
    {
      "cell_type": "code",
      "metadata": {
        "id": "4MV-hvef_HH6",
        "colab_type": "code",
        "colab": {
          "base_uri": "https://localhost:8080/",
          "height": 34
        },
        "outputId": "fb7efd27-773e-452d-d4dd-7ea1ccd6e37d"
      },
      "source": [
        "print(i.sum())"
      ],
      "execution_count": null,
      "outputs": [
        {
          "output_type": "stream",
          "text": [
            "308\n"
          ],
          "name": "stdout"
        }
      ]
    },
    {
      "cell_type": "markdown",
      "metadata": {
        "id": "KNrr7X2JdkuC",
        "colab_type": "text"
      },
      "source": [
        "10. **axis**: If you want to calculate the sum of rows or columns specifically, then here role of axis takes place.\n",
        "  \n",
        "  axis=0 means column and axis=1 means row."
      ]
    },
    {
      "cell_type": "code",
      "metadata": {
        "id": "dSqd9y81_M17",
        "colab_type": "code",
        "colab": {
          "base_uri": "https://localhost:8080/",
          "height": 34
        },
        "outputId": "c6627e3c-48f3-4836-f5ac-03162cace33a"
      },
      "source": [
        "print(b.sum(axis=1))"
      ],
      "execution_count": null,
      "outputs": [
        {
          "output_type": "stream",
          "text": [
            "[937]\n"
          ],
          "name": "stdout"
        }
      ]
    },
    {
      "cell_type": "code",
      "metadata": {
        "id": "MmITjZ6QBgT0",
        "colab_type": "code",
        "colab": {
          "base_uri": "https://localhost:8080/",
          "height": 34
        },
        "outputId": "c732f7d5-ec87-4c5d-8773-1330116eea4e"
      },
      "source": [
        "print(b.sum(axis=0))"
      ],
      "execution_count": null,
      "outputs": [
        {
          "output_type": "stream",
          "text": [
            "[  1   2   3   4   5 675 234  13]\n"
          ],
          "name": "stdout"
        }
      ]
    },
    {
      "cell_type": "markdown",
      "metadata": {
        "id": "CG9i6DccehzU",
        "colab_type": "text"
      },
      "source": [
        "11. **Square root and Standard Deviation**:"
      ]
    },
    {
      "cell_type": "code",
      "metadata": {
        "id": "DMvCI5BmBo71",
        "colab_type": "code",
        "colab": {
          "base_uri": "https://localhost:8080/",
          "height": 68
        },
        "outputId": "0e2a6d23-39ef-4032-d1fd-77313f23a2fd"
      },
      "source": [
        "import numpy as np\n",
        "a=np.array([(1,2,3),(3,4,5,)])\n",
        "print(np.sqrt(a))\n",
        "print(np.std(a))"
      ],
      "execution_count": null,
      "outputs": [
        {
          "output_type": "stream",
          "text": [
            "[[1.         1.41421356 1.73205081]\n",
            " [1.73205081 2.         2.23606798]]\n",
            "1.2909944487358056\n"
          ],
          "name": "stdout"
        }
      ]
    },
    {
      "cell_type": "code",
      "metadata": {
        "id": "6L1smRhzCjf3",
        "colab_type": "code",
        "colab": {
          "base_uri": "https://localhost:8080/",
          "height": 289
        },
        "outputId": "e02230ea-4398-420a-a672-db8ff427be84"
      },
      "source": [
        "z= np.array([[[(1,2,3),(4,5,6),(7,8,9)],[(1,2,3),(4,5,6),(7,8,9)]],[[(1,2,3),(4,5,6),(7,8,9)],[(1,2,3),(4,5,6),(7,8,9)]]])\n",
        "print(z)"
      ],
      "execution_count": null,
      "outputs": [
        {
          "output_type": "stream",
          "text": [
            "[[[[1 2 3]\n",
            "   [4 5 6]\n",
            "   [7 8 9]]\n",
            "\n",
            "  [[1 2 3]\n",
            "   [4 5 6]\n",
            "   [7 8 9]]]\n",
            "\n",
            "\n",
            " [[[1 2 3]\n",
            "   [4 5 6]\n",
            "   [7 8 9]]\n",
            "\n",
            "  [[1 2 3]\n",
            "   [4 5 6]\n",
            "   [7 8 9]]]]\n"
          ],
          "name": "stdout"
        }
      ]
    },
    {
      "cell_type": "markdown",
      "metadata": {
        "id": "7L_gKHLje4bT",
        "colab_type": "text"
      },
      "source": [
        "12. **linspace**: It is another NumPy operation which gives evenly spaced number in a specified interval."
      ]
    },
    {
      "cell_type": "code",
      "metadata": {
        "id": "PKZyHseWDP3I",
        "colab_type": "code",
        "colab": {
          "base_uri": "https://localhost:8080/",
          "height": 85
        },
        "outputId": "af9d3a09-1316-40c0-a121-d8ee2e9f19fc"
      },
      "source": [
        "d=np.linspace(1,5,20)\n",
        "print(d)"
      ],
      "execution_count": null,
      "outputs": [
        {
          "output_type": "stream",
          "text": [
            "[1.         1.21052632 1.42105263 1.63157895 1.84210526 2.05263158\n",
            " 2.26315789 2.47368421 2.68421053 2.89473684 3.10526316 3.31578947\n",
            " 3.52631579 3.73684211 3.94736842 4.15789474 4.36842105 4.57894737\n",
            " 4.78947368 5.        ]\n"
          ],
          "name": "stdout"
        }
      ]
    },
    {
      "cell_type": "markdown",
      "metadata": {
        "id": "W4-qx22wfYuB",
        "colab_type": "text"
      },
      "source": [
        "13. **Horizontal and Vertical stack**: Helps in concatenation of two arrays."
      ]
    },
    {
      "cell_type": "code",
      "metadata": {
        "id": "gCLUm2-EIvkm",
        "colab_type": "code",
        "colab": {
          "base_uri": "https://localhost:8080/",
          "height": 85
        },
        "outputId": "1589f237-c35c-445a-e6a6-cec2273f2a0d"
      },
      "source": [
        "g=np.array([(1,2,3),(5,32,53)])\n",
        "e=np.array([(2,34,2),(23,34,21)])\n",
        "print(np.vstack((g,e)))"
      ],
      "execution_count": null,
      "outputs": [
        {
          "output_type": "stream",
          "text": [
            "[[ 1  2  3]\n",
            " [ 5 32 53]\n",
            " [ 2 34  2]\n",
            " [23 34 21]]\n"
          ],
          "name": "stdout"
        }
      ]
    },
    {
      "cell_type": "code",
      "metadata": {
        "id": "jFmxFaj7Kz1y",
        "colab_type": "code",
        "colab": {
          "base_uri": "https://localhost:8080/",
          "height": 51
        },
        "outputId": "ea032877-c526-4eb7-c5da-3780d97f7301"
      },
      "source": [
        "print(np.hstack((g,e)))"
      ],
      "execution_count": null,
      "outputs": [
        {
          "output_type": "stream",
          "text": [
            "[[ 1  2  3  2 34  2]\n",
            " [ 5 32 53 23 34 21]]\n"
          ],
          "name": "stdout"
        }
      ]
    },
    {
      "cell_type": "markdown",
      "metadata": {
        "id": "Un7M7U-Jf6m-",
        "colab_type": "text"
      },
      "source": [
        "14. **ravel**: It converts one numpy array into a single column."
      ]
    },
    {
      "cell_type": "code",
      "metadata": {
        "id": "wR63UW1PLUvB",
        "colab_type": "code",
        "colab": {
          "base_uri": "https://localhost:8080/",
          "height": 34
        },
        "outputId": "eb29bc44-18db-4e6e-a215-76dda7c5cc6f"
      },
      "source": [
        "#\n",
        "print(g.ravel())\n"
      ],
      "execution_count": null,
      "outputs": [
        {
          "output_type": "stream",
          "text": [
            "[ 1  2  3  5 32 53]\n"
          ],
          "name": "stdout"
        }
      ]
    },
    {
      "cell_type": "markdown",
      "metadata": {
        "id": "MOKZHWGvggkD",
        "colab_type": "text"
      },
      "source": [
        "**matplotlib**: It is one of the special function of NumPy. It helps in plotting graphs."
      ]
    },
    {
      "cell_type": "code",
      "metadata": {
        "id": "A8iyL4cnMjk7",
        "colab_type": "code",
        "colab": {
          "base_uri": "https://localhost:8080/",
          "height": 265
        },
        "outputId": "d52a09a2-fd77-4129-819e-b8509237aceb"
      },
      "source": [
        "import numpy as np\n",
        "import matplotlib.pyplot as plt\n",
        "x= np.arange(0,3*np.pi,0.9)\n",
        "y=np.sin(x)\n",
        "plt.plot(x,y)\n",
        "plt.show()"
      ],
      "execution_count": null,
      "outputs": [
        {
          "output_type": "display_data",
          "data": {
            "image/png": "[encoded data removed]",
            "text/plain": [
              "<Figure size 432x288 with 1 Axes>"
            ]
          },
          "metadata": {
            "tags": [],
            "needs_background": "light"
          }
        }
      ]
    },
    {
      "cell_type": "code",
      "metadata": {
        "id": "5Rzs07Q_NCnt",
        "colab_type": "code",
        "colab": {
          "base_uri": "https://localhost:8080/",
          "height": 265
        },
        "outputId": "ef92d474-d28f-40ae-972e-ac3ccae948e3"
      },
      "source": [
        "x=np.arange(0,3*np.pi,0.1)\n",
        "y=np.tan(x)\n",
        "plt.plot(x,y)\n",
        "plt.show"
      ],
      "execution_count": null,
      "outputs": [
        {
          "output_type": "display_data",
          "data": {
            "image/png": "[encoded data removed]",
            "text/plain": [
              "<Figure size 432x288 with 1 Axes>"
            ]
          },
          "metadata": {
            "tags": [],
            "needs_background": "light"
          }
        }
      ]
    },
    {
      "cell_type": "code",
      "metadata": {
        "id": "gO8JT9eV5nkm",
        "colab_type": "code",
        "colab": {}
      },
      "source": [
        ""
      ],
      "execution_count": null,
      "outputs": []
    }
  ]
}